{
 "cells": [
  {
   "cell_type": "markdown",
   "id": "b2ea2dae-25c4-49fd-b1e7-daaa2db17963",
   "metadata": {},
   "source": [
    "# Python Course Project\n",
    "\n",
    "*Author: Tanja Platonova*\n",
    "\n",
    "*Date: 19.9.2024*\n",
    "\n",
    "# Analyzing Mobile Game Data Using Pandas\n",
    "\n",
    "### Project Goals\n",
    "\n",
    "The main goals of my project are to enhance my data analytics portfolio and demonstrate the skills I have gained throughout the course. I selected this project from a collection of test assignments for data analytics.\n",
    "\n",
    "### Data Analysis Task\n",
    "\n",
    "The task is to analyze mobile game data, which includes information about players such as their level, country, platform, registration date, and last login date. This analysis is expected to provide insight into the game's audience and player behavior.\n",
    "\n",
    "### Questions\n",
    "\n",
    "1) For each platform, determine the top 5 countries by the number of players.\n",
    "2) What is the maximum lifetime of players in the game?\n",
    "3) How many players are above level 20?\n",
    "4) Calculate the average player level for each country.\n",
    "\n",
    "### Dataset Description\n",
    "\n",
    "Dataset: [Google Sheets Link](https://docs.google.com/spreadsheets/d/1bb0mBd9OGSdH08POkWgcYlK9a2YPQq1Dd2XyikUdeeI/edit#gid=1478114822) \n",
    "\n",
    "The initial table contains the following columns:\n",
    "\n",
    "* country - the player's country\n",
    "* pl - the player's level\n",
    "* plf - the platform\n",
    "* reg - the player's registration date\n",
    "* ts - the time of the player's last login to the game\n",
    "* user - the player's ID"
   ]
  },
  {
   "cell_type": "markdown",
   "id": "e4edfdcf-1963-442a-bbd6-4eac50a4b014",
   "metadata": {},
   "source": [
    "## Data Preparation\n",
    "\n",
    "At this step I am going to detect and correct (or remove) inaccurate records from a dataset."
   ]
  },
  {
   "cell_type": "code",
   "execution_count": 1,
   "id": "cad428c6-806c-4b28-bfb4-62da3470df3a",
   "metadata": {
    "tags": []
   },
   "outputs": [],
   "source": [
    "# Importing libraries \n",
    "import pandas as pd"
   ]
  },
  {
   "cell_type": "code",
   "execution_count": 2,
   "id": "f19d1ff6-4f67-4fa3-b7eb-18ec328494ac",
   "metadata": {
    "tags": []
   },
   "outputs": [],
   "source": [
    "# Loading the dataset into a dataframe\n",
    "df = pd.read_csv(\"cp_data.csv\")"
   ]
  },
  {
   "cell_type": "code",
   "execution_count": 3,
   "id": "b54c6548-0031-4aa7-9f87-b181f1dd5bdd",
   "metadata": {
    "tags": []
   },
   "outputs": [
    {
     "name": "stdout",
     "output_type": "stream",
     "text": [
      "<class 'pandas.core.frame.DataFrame'>\n",
      "RangeIndex: 1000 entries, 0 to 999\n",
      "Data columns (total 6 columns):\n",
      " #   Column   Non-Null Count  Dtype \n",
      "---  ------   --------------  ----- \n",
      " 0   country  1000 non-null   object\n",
      " 1   pl       1000 non-null   int64 \n",
      " 2   plf      1000 non-null   object\n",
      " 3   reg      1000 non-null   int64 \n",
      " 4   ts       1000 non-null   int64 \n",
      " 5   user     1000 non-null   object\n",
      "dtypes: int64(3), object(3)\n",
      "memory usage: 47.0+ KB\n"
     ]
    }
   ],
   "source": [
    "# Getting a summary, including column names, non-null counts, and data types\n",
    "df.info()"
   ]
  },
  {
   "cell_type": "code",
   "execution_count": 4,
   "id": "b698a2c5-f1ec-4cb2-bb55-8220aa9a1fce",
   "metadata": {
    "jp-MarkdownHeadingCollapsed": true,
    "tags": []
   },
   "outputs": [
    {
     "data": {
      "text/html": [
       "<div>\n",
       "<style scoped>\n",
       "    .dataframe tbody tr th:only-of-type {\n",
       "        vertical-align: middle;\n",
       "    }\n",
       "\n",
       "    .dataframe tbody tr th {\n",
       "        vertical-align: top;\n",
       "    }\n",
       "\n",
       "    .dataframe thead th {\n",
       "        text-align: right;\n",
       "    }\n",
       "</style>\n",
       "<table border=\"1\" class=\"dataframe\">\n",
       "  <thead>\n",
       "    <tr style=\"text-align: right;\">\n",
       "      <th></th>\n",
       "      <th>country</th>\n",
       "      <th>pl</th>\n",
       "      <th>plf</th>\n",
       "      <th>reg</th>\n",
       "      <th>ts</th>\n",
       "      <th>user</th>\n",
       "    </tr>\n",
       "  </thead>\n",
       "  <tbody>\n",
       "    <tr>\n",
       "      <th>0</th>\n",
       "      <td>IT</td>\n",
       "      <td>33</td>\n",
       "      <td>Android</td>\n",
       "      <td>1511191920859</td>\n",
       "      <td>1586044805457</td>\n",
       "      <td>1122239prod-eu</td>\n",
       "    </tr>\n",
       "    <tr>\n",
       "      <th>1</th>\n",
       "      <td>IN</td>\n",
       "      <td>33</td>\n",
       "      <td>Android</td>\n",
       "      <td>1509074590554</td>\n",
       "      <td>1586045807421</td>\n",
       "      <td>147065prod-us</td>\n",
       "    </tr>\n",
       "    <tr>\n",
       "      <th>2</th>\n",
       "      <td>TR</td>\n",
       "      <td>33</td>\n",
       "      <td>iOS</td>\n",
       "      <td>1575420775882</td>\n",
       "      <td>1586047059117</td>\n",
       "      <td>25564086prod-eu</td>\n",
       "    </tr>\n",
       "    <tr>\n",
       "      <th>3</th>\n",
       "      <td>HK</td>\n",
       "      <td>12</td>\n",
       "      <td>Android</td>\n",
       "      <td>1584406076183</td>\n",
       "      <td>1586045087568</td>\n",
       "      <td>10123050prod-as</td>\n",
       "    </tr>\n",
       "    <tr>\n",
       "      <th>4</th>\n",
       "      <td>CN</td>\n",
       "      <td>21</td>\n",
       "      <td>Android</td>\n",
       "      <td>1581887511291</td>\n",
       "      <td>1586046421744</td>\n",
       "      <td>9893956prod-as</td>\n",
       "    </tr>\n",
       "  </tbody>\n",
       "</table>\n",
       "</div>"
      ],
      "text/plain": [
       "  country  pl      plf            reg             ts             user\n",
       "0      IT  33  Android  1511191920859  1586044805457   1122239prod-eu\n",
       "1      IN  33  Android  1509074590554  1586045807421    147065prod-us\n",
       "2      TR  33      iOS  1575420775882  1586047059117  25564086prod-eu\n",
       "3      HK  12  Android  1584406076183  1586045087568  10123050prod-as\n",
       "4      CN  21  Android  1581887511291  1586046421744   9893956prod-as"
      ]
     },
     "execution_count": 4,
     "metadata": {},
     "output_type": "execute_result"
    }
   ],
   "source": [
    "#### Getting a quick look at the data\n",
    "df.head()"
   ]
  },
  {
   "cell_type": "markdown",
   "id": "76a26c50-2835-43e7-8dcc-2fdb6cd70d67",
   "metadata": {
    "tags": []
   },
   "source": [
    "### Dataset Issues\n",
    "\n",
    "Upon reviewing the dataset, I identified several issues:\n",
    "\n",
    "* Unclear column names\n",
    "* Redundant user IDs\n",
    "* Non-human-readable date format\n",
    "* Non-human-readable country codes\n",
    "\n",
    "In the following sections, I address these issues to improve data quality."
   ]
  },
  {
   "cell_type": "markdown",
   "id": "894206a5-9f57-4326-b284-7b8cb632fcef",
   "metadata": {},
   "source": [
    "#### Renaming and Reorganizing Columns\n",
    "\n",
    "To make the dataset more readable, I renamed the columns for better clarity:"
   ]
  },
  {
   "cell_type": "code",
   "execution_count": 5,
   "id": "d339c1bd-251a-49ad-9dbd-d70ec32765f9",
   "metadata": {
    "tags": []
   },
   "outputs": [
    {
     "data": {
      "text/plain": [
       "Index(['country', 'pl', 'plf', 'reg', 'ts', 'user'], dtype='object')"
      ]
     },
     "execution_count": 5,
     "metadata": {},
     "output_type": "execute_result"
    }
   ],
   "source": [
    "# Original column names\n",
    "df.columns"
   ]
  },
  {
   "cell_type": "code",
   "execution_count": 6,
   "id": "25603af0-64ad-4749-a1eb-e456afae992e",
   "metadata": {
    "tags": []
   },
   "outputs": [],
   "source": [
    "# Renaming and reorganizing the columns\n",
    "df.columns = ['country_code', 'level', 'platform', 'reg_date', 'last_login', 'user_id']"
   ]
  },
  {
   "cell_type": "code",
   "execution_count": 7,
   "id": "94274449-3e81-4dea-85b3-1c1e307c8e8d",
   "metadata": {
    "tags": []
   },
   "outputs": [
    {
     "data": {
      "text/html": [
       "<div>\n",
       "<style scoped>\n",
       "    .dataframe tbody tr th:only-of-type {\n",
       "        vertical-align: middle;\n",
       "    }\n",
       "\n",
       "    .dataframe tbody tr th {\n",
       "        vertical-align: top;\n",
       "    }\n",
       "\n",
       "    .dataframe thead th {\n",
       "        text-align: right;\n",
       "    }\n",
       "</style>\n",
       "<table border=\"1\" class=\"dataframe\">\n",
       "  <thead>\n",
       "    <tr style=\"text-align: right;\">\n",
       "      <th></th>\n",
       "      <th>country_code</th>\n",
       "      <th>level</th>\n",
       "      <th>platform</th>\n",
       "      <th>reg_date</th>\n",
       "      <th>last_login</th>\n",
       "      <th>user_id</th>\n",
       "    </tr>\n",
       "  </thead>\n",
       "  <tbody>\n",
       "    <tr>\n",
       "      <th>0</th>\n",
       "      <td>IT</td>\n",
       "      <td>33</td>\n",
       "      <td>Android</td>\n",
       "      <td>1511191920859</td>\n",
       "      <td>1586044805457</td>\n",
       "      <td>1122239prod-eu</td>\n",
       "    </tr>\n",
       "    <tr>\n",
       "      <th>1</th>\n",
       "      <td>IN</td>\n",
       "      <td>33</td>\n",
       "      <td>Android</td>\n",
       "      <td>1509074590554</td>\n",
       "      <td>1586045807421</td>\n",
       "      <td>147065prod-us</td>\n",
       "    </tr>\n",
       "    <tr>\n",
       "      <th>2</th>\n",
       "      <td>TR</td>\n",
       "      <td>33</td>\n",
       "      <td>iOS</td>\n",
       "      <td>1575420775882</td>\n",
       "      <td>1586047059117</td>\n",
       "      <td>25564086prod-eu</td>\n",
       "    </tr>\n",
       "    <tr>\n",
       "      <th>3</th>\n",
       "      <td>HK</td>\n",
       "      <td>12</td>\n",
       "      <td>Android</td>\n",
       "      <td>1584406076183</td>\n",
       "      <td>1586045087568</td>\n",
       "      <td>10123050prod-as</td>\n",
       "    </tr>\n",
       "    <tr>\n",
       "      <th>4</th>\n",
       "      <td>CN</td>\n",
       "      <td>21</td>\n",
       "      <td>Android</td>\n",
       "      <td>1581887511291</td>\n",
       "      <td>1586046421744</td>\n",
       "      <td>9893956prod-as</td>\n",
       "    </tr>\n",
       "  </tbody>\n",
       "</table>\n",
       "</div>"
      ],
      "text/plain": [
       "  country_code  level platform       reg_date     last_login          user_id\n",
       "0           IT     33  Android  1511191920859  1586044805457   1122239prod-eu\n",
       "1           IN     33  Android  1509074590554  1586045807421    147065prod-us\n",
       "2           TR     33      iOS  1575420775882  1586047059117  25564086prod-eu\n",
       "3           HK     12  Android  1584406076183  1586045087568  10123050prod-as\n",
       "4           CN     21  Android  1581887511291  1586046421744   9893956prod-as"
      ]
     },
     "execution_count": 7,
     "metadata": {},
     "output_type": "execute_result"
    }
   ],
   "source": [
    "# Displaying the updated dataframe\n",
    "df.head()"
   ]
  },
  {
   "cell_type": "markdown",
   "id": "f0d6b1fe-0403-4b37-a7a3-acf53d33fb0a",
   "metadata": {},
   "source": [
    "The updated column names are:\n",
    "\n",
    "* country_code: The player's country code\n",
    "* level: The player's level\n",
    "* platform: The platform used (e.g., iOS, Android)\n",
    "* reg_date: The player's registration date\n",
    "* last_login: The date of the player's last login\n",
    "* user_id: The player's unique identifier"
   ]
  },
  {
   "cell_type": "markdown",
   "id": "3e618e79-5ef7-4b71-a083-dcbfb7f1a8a2",
   "metadata": {},
   "source": [
    "#### Date Formatting\n",
    "\n",
    "The date columns contain Unix timestamps in milliseconds, so I converted them to a human-readable format. Since the analysis only requires the date (not the time), I removed the time part from the converted dates."
   ]
  },
  {
   "cell_type": "code",
   "execution_count": 8,
   "id": "6d95ee13-1f4b-4e9b-82fb-30f77a727531",
   "metadata": {
    "tags": []
   },
   "outputs": [],
   "source": [
    "# Importing necessary module for date formatting\n",
    "from datetime import datetime"
   ]
  },
  {
   "cell_type": "code",
   "execution_count": 9,
   "id": "0b417c40-5d80-4eda-9723-72981249b19c",
   "metadata": {
    "tags": []
   },
   "outputs": [],
   "source": [
    "# Columns containing Unix timestamps to be converted\n",
    "columns_to_convert = ['reg_date', 'last_login']"
   ]
  },
  {
   "cell_type": "code",
   "execution_count": 10,
   "id": "5eb5e627-336f-4e18-aed1-e99c94a2813c",
   "metadata": {
    "tags": []
   },
   "outputs": [],
   "source": [
    "# Loop through each column and convert the Unix timestamp to a human-readable date format\n",
    "for column in columns_to_convert:\n",
    "    df[column] = pd.to_datetime(df[column], unit='ms')\n",
    "    df[column] = df[column].dt.strftime('%Y-%m-%d')"
   ]
  },
  {
   "cell_type": "code",
   "execution_count": 11,
   "id": "490730e8-6264-426f-a600-5b3118c76b0c",
   "metadata": {
    "tags": []
   },
   "outputs": [
    {
     "data": {
      "text/html": [
       "<div>\n",
       "<style scoped>\n",
       "    .dataframe tbody tr th:only-of-type {\n",
       "        vertical-align: middle;\n",
       "    }\n",
       "\n",
       "    .dataframe tbody tr th {\n",
       "        vertical-align: top;\n",
       "    }\n",
       "\n",
       "    .dataframe thead th {\n",
       "        text-align: right;\n",
       "    }\n",
       "</style>\n",
       "<table border=\"1\" class=\"dataframe\">\n",
       "  <thead>\n",
       "    <tr style=\"text-align: right;\">\n",
       "      <th></th>\n",
       "      <th>country_code</th>\n",
       "      <th>level</th>\n",
       "      <th>platform</th>\n",
       "      <th>reg_date</th>\n",
       "      <th>last_login</th>\n",
       "      <th>user_id</th>\n",
       "    </tr>\n",
       "  </thead>\n",
       "  <tbody>\n",
       "    <tr>\n",
       "      <th>0</th>\n",
       "      <td>IT</td>\n",
       "      <td>33</td>\n",
       "      <td>Android</td>\n",
       "      <td>2017-11-20</td>\n",
       "      <td>2020-04-05</td>\n",
       "      <td>1122239prod-eu</td>\n",
       "    </tr>\n",
       "    <tr>\n",
       "      <th>1</th>\n",
       "      <td>IN</td>\n",
       "      <td>33</td>\n",
       "      <td>Android</td>\n",
       "      <td>2017-10-27</td>\n",
       "      <td>2020-04-05</td>\n",
       "      <td>147065prod-us</td>\n",
       "    </tr>\n",
       "    <tr>\n",
       "      <th>2</th>\n",
       "      <td>TR</td>\n",
       "      <td>33</td>\n",
       "      <td>iOS</td>\n",
       "      <td>2019-12-04</td>\n",
       "      <td>2020-04-05</td>\n",
       "      <td>25564086prod-eu</td>\n",
       "    </tr>\n",
       "    <tr>\n",
       "      <th>3</th>\n",
       "      <td>HK</td>\n",
       "      <td>12</td>\n",
       "      <td>Android</td>\n",
       "      <td>2020-03-17</td>\n",
       "      <td>2020-04-05</td>\n",
       "      <td>10123050prod-as</td>\n",
       "    </tr>\n",
       "    <tr>\n",
       "      <th>4</th>\n",
       "      <td>CN</td>\n",
       "      <td>21</td>\n",
       "      <td>Android</td>\n",
       "      <td>2020-02-16</td>\n",
       "      <td>2020-04-05</td>\n",
       "      <td>9893956prod-as</td>\n",
       "    </tr>\n",
       "  </tbody>\n",
       "</table>\n",
       "</div>"
      ],
      "text/plain": [
       "  country_code  level platform    reg_date  last_login          user_id\n",
       "0           IT     33  Android  2017-11-20  2020-04-05   1122239prod-eu\n",
       "1           IN     33  Android  2017-10-27  2020-04-05    147065prod-us\n",
       "2           TR     33      iOS  2019-12-04  2020-04-05  25564086prod-eu\n",
       "3           HK     12  Android  2020-03-17  2020-04-05  10123050prod-as\n",
       "4           CN     21  Android  2020-02-16  2020-04-05   9893956prod-as"
      ]
     },
     "execution_count": 11,
     "metadata": {},
     "output_type": "execute_result"
    }
   ],
   "source": [
    "# Displaying the updated dataframe to verify the changes\n",
    "df.head()"
   ]
  },
  {
   "cell_type": "markdown",
   "id": "d0d763b8-0832-4af6-8313-75fb8818f4bd",
   "metadata": {},
   "source": [
    "#### Clearing the user_id Column \n",
    "\n",
    "Looking more closely, the user_id column appears to contain a region code (eg. \"prod-eu\", \"prod-us\") in the last 7 characters. Since this information is not necessary for my analysis, I will extract these values and check them. If they are consistent and irrelevant, I will drop them and keep only the essential part of the user_id."
   ]
  },
  {
   "cell_type": "code",
   "execution_count": 12,
   "id": "c5c46a29-bcf0-4570-956c-06c1b7e64e27",
   "metadata": {
    "tags": []
   },
   "outputs": [],
   "source": [
    "# Extracting everything except the last 7 characters (numeric part of user_id)\n",
    "df['user_id_temp'] = df['user_id'].str[:-7]\n",
    "\n",
    "# Extract the last 7 characters to inspect the region codes\n",
    "df['temp'] = df['user_id'].str[-7:]"
   ]
  },
  {
   "cell_type": "code",
   "execution_count": 13,
   "id": "858e76f2-757b-4754-8fc1-cce43e3ac777",
   "metadata": {
    "tags": []
   },
   "outputs": [
    {
     "name": "stdout",
     "output_type": "stream",
     "text": [
      "['prod-eu' 'prod-us' 'prod-as' 'prod-in']\n"
     ]
    }
   ],
   "source": [
    "# Checking unique values in the 'temp' column to understand the region codes\n",
    "print(df[\"temp\"].unique())"
   ]
  },
  {
   "cell_type": "markdown",
   "id": "a0b22016-1c59-4de8-8dae-e812606dc1ae",
   "metadata": {},
   "source": [
    "Since the region codes are not useful for this analysis, I can safely drop the 'temp' column and keep the cleaned 'user_id'"
   ]
  },
  {
   "cell_type": "code",
   "execution_count": 14,
   "id": "f3d8b252-df51-40a8-a126-00c79a7eee82",
   "metadata": {
    "tags": []
   },
   "outputs": [],
   "source": [
    "# Droping 'temp' column\n",
    "our_cols = ['country_code', 'level', 'platform', 'reg_date', 'last_login', 'user_id_temp']"
   ]
  },
  {
   "cell_type": "code",
   "execution_count": 15,
   "id": "ff0349e3-2d7e-42e0-8ca8-fa2b5eb0e82c",
   "metadata": {
    "tags": []
   },
   "outputs": [],
   "source": [
    "df = df[our_cols]"
   ]
  },
  {
   "cell_type": "code",
   "execution_count": 16,
   "id": "9e2f9618-6f40-4b22-8c04-0d2076a9870c",
   "metadata": {
    "tags": []
   },
   "outputs": [],
   "source": [
    "# Renaming 'user_id_temp' back to 'user_id' to restore the original column name after cleaning\n",
    "df.columns = ['country_code', 'level', 'platform', 'reg_date', 'last_login', 'user_id']"
   ]
  },
  {
   "cell_type": "markdown",
   "id": "a7250b2f-387f-42e4-93da-24d1ccd43adf",
   "metadata": {},
   "source": [
    "#### Countries' Full Names"
   ]
  },
  {
   "cell_type": "markdown",
   "id": "63a26401-f3bc-4e4f-87ce-f9afb8162d7d",
   "metadata": {},
   "source": [
    "To make the country information more user-friendly, I mapped the country codes in the dataset to their corresponding full country names using ISO-3166 codes. The data for country codes and names was sourced from the [ISO-3166 dataset](https://github.com/lukes/ISO-3166-Countries-with-Regional-Codes/tree/master/all)."
   ]
  },
  {
   "cell_type": "code",
   "execution_count": 17,
   "id": "ab929d1a-0732-4582-9ed9-d2052782a4cf",
   "metadata": {
    "tags": []
   },
   "outputs": [
    {
     "name": "stdout",
     "output_type": "stream",
     "text": [
      "          country_name country_code\n",
      "0          Afghanistan           AF\n",
      "1        Åland Islands           AX\n",
      "2              Albania           AL\n",
      "3              Algeria           DZ\n",
      "4       American Samoa           AS\n",
      "..                 ...          ...\n",
      "244  Wallis and Futuna           WF\n",
      "245     Western Sahara           EH\n",
      "246              Yemen           YE\n",
      "247             Zambia           ZM\n",
      "248           Zimbabwe           ZW\n",
      "\n",
      "[249 rows x 2 columns]\n"
     ]
    }
   ],
   "source": [
    "# Loading countries.csv, containing country codes and names\n",
    "countries = pd.read_csv(\"cp_countries.csv\")\n",
    "\n",
    "# Displaying the contents of the file to ensure it loaded correctly\n",
    "print(countries)"
   ]
  },
  {
   "cell_type": "markdown",
   "id": "2ad48096-1eff-4234-a31a-9b596efedb46",
   "metadata": {},
   "source": [
    "I merged the main dataset with the countries.csv file using a left join to ensure that all records in the main dataset were preserved, even if the country code was missing in the countries.csv."
   ]
  },
  {
   "cell_type": "code",
   "execution_count": 18,
   "id": "1fe91a40-7b84-4200-9e28-af2f96860d70",
   "metadata": {
    "tags": []
   },
   "outputs": [
    {
     "data": {
      "text/html": [
       "<div>\n",
       "<style scoped>\n",
       "    .dataframe tbody tr th:only-of-type {\n",
       "        vertical-align: middle;\n",
       "    }\n",
       "\n",
       "    .dataframe tbody tr th {\n",
       "        vertical-align: top;\n",
       "    }\n",
       "\n",
       "    .dataframe thead th {\n",
       "        text-align: right;\n",
       "    }\n",
       "</style>\n",
       "<table border=\"1\" class=\"dataframe\">\n",
       "  <thead>\n",
       "    <tr style=\"text-align: right;\">\n",
       "      <th></th>\n",
       "      <th>country_code</th>\n",
       "      <th>level</th>\n",
       "      <th>platform</th>\n",
       "      <th>reg_date</th>\n",
       "      <th>last_login</th>\n",
       "      <th>user_id</th>\n",
       "      <th>country_name</th>\n",
       "    </tr>\n",
       "  </thead>\n",
       "  <tbody>\n",
       "    <tr>\n",
       "      <th>0</th>\n",
       "      <td>IT</td>\n",
       "      <td>33</td>\n",
       "      <td>Android</td>\n",
       "      <td>2017-11-20</td>\n",
       "      <td>2020-04-05</td>\n",
       "      <td>1122239</td>\n",
       "      <td>Italy</td>\n",
       "    </tr>\n",
       "    <tr>\n",
       "      <th>1</th>\n",
       "      <td>IN</td>\n",
       "      <td>33</td>\n",
       "      <td>Android</td>\n",
       "      <td>2017-10-27</td>\n",
       "      <td>2020-04-05</td>\n",
       "      <td>147065</td>\n",
       "      <td>India</td>\n",
       "    </tr>\n",
       "    <tr>\n",
       "      <th>2</th>\n",
       "      <td>TR</td>\n",
       "      <td>33</td>\n",
       "      <td>iOS</td>\n",
       "      <td>2019-12-04</td>\n",
       "      <td>2020-04-05</td>\n",
       "      <td>25564086</td>\n",
       "      <td>Türkiye</td>\n",
       "    </tr>\n",
       "    <tr>\n",
       "      <th>3</th>\n",
       "      <td>HK</td>\n",
       "      <td>12</td>\n",
       "      <td>Android</td>\n",
       "      <td>2020-03-17</td>\n",
       "      <td>2020-04-05</td>\n",
       "      <td>10123050</td>\n",
       "      <td>Hong Kong</td>\n",
       "    </tr>\n",
       "    <tr>\n",
       "      <th>4</th>\n",
       "      <td>CN</td>\n",
       "      <td>21</td>\n",
       "      <td>Android</td>\n",
       "      <td>2020-02-16</td>\n",
       "      <td>2020-04-05</td>\n",
       "      <td>9893956</td>\n",
       "      <td>China</td>\n",
       "    </tr>\n",
       "  </tbody>\n",
       "</table>\n",
       "</div>"
      ],
      "text/plain": [
       "  country_code  level platform    reg_date  last_login   user_id country_name\n",
       "0           IT     33  Android  2017-11-20  2020-04-05   1122239        Italy\n",
       "1           IN     33  Android  2017-10-27  2020-04-05    147065        India\n",
       "2           TR     33      iOS  2019-12-04  2020-04-05  25564086      Türkiye\n",
       "3           HK     12  Android  2020-03-17  2020-04-05  10123050    Hong Kong\n",
       "4           CN     21  Android  2020-02-16  2020-04-05   9893956        China"
      ]
     },
     "execution_count": 18,
     "metadata": {},
     "output_type": "execute_result"
    }
   ],
   "source": [
    "# Merging the main dataset with the country names\n",
    "df_merged = df.merge(countries[['country_name','country_code']], on = 'country_code', how = 'left')\n",
    "# Checking the first few rows of the merged dataset\n",
    "df_merged.head()"
   ]
  },
  {
   "cell_type": "code",
   "execution_count": 19,
   "id": "905b62d7-af6f-4af7-8c34-0109a9eb93b3",
   "metadata": {
    "tags": []
   },
   "outputs": [
    {
     "name": "stdout",
     "output_type": "stream",
     "text": [
      "<class 'pandas.core.frame.DataFrame'>\n",
      "RangeIndex: 1000 entries, 0 to 999\n",
      "Data columns (total 7 columns):\n",
      " #   Column        Non-Null Count  Dtype \n",
      "---  ------        --------------  ----- \n",
      " 0   country_code  1000 non-null   object\n",
      " 1   level         1000 non-null   int64 \n",
      " 2   platform      1000 non-null   object\n",
      " 3   reg_date      1000 non-null   object\n",
      " 4   last_login    1000 non-null   object\n",
      " 5   user_id       1000 non-null   object\n",
      " 6   country_name  997 non-null    object\n",
      "dtypes: int64(1), object(6)\n",
      "memory usage: 54.8+ KB\n"
     ]
    }
   ],
   "source": [
    "# Getting an overview of the merged dataframe, including the new 'country_name' column\n",
    "df_merged.info()"
   ]
  },
  {
   "cell_type": "markdown",
   "id": "5195055d-ae22-4db2-9469-4463c3201e62",
   "metadata": {
    "tags": []
   },
   "source": [
    "Upon inspecting the merged dataframe, I found three rows where the country_name was missing (NaN). This was caused by invalid country codes in the original dataset. Since the number of affected rows is small and insignificant for the analysis, I decided to remove them."
   ]
  },
  {
   "cell_type": "code",
   "execution_count": 20,
   "id": "048e4a54-aadf-4d45-a170-3e747a0c5063",
   "metadata": {
    "tags": []
   },
   "outputs": [
    {
     "data": {
      "text/html": [
       "<div>\n",
       "<style scoped>\n",
       "    .dataframe tbody tr th:only-of-type {\n",
       "        vertical-align: middle;\n",
       "    }\n",
       "\n",
       "    .dataframe tbody tr th {\n",
       "        vertical-align: top;\n",
       "    }\n",
       "\n",
       "    .dataframe thead th {\n",
       "        text-align: right;\n",
       "    }\n",
       "</style>\n",
       "<table border=\"1\" class=\"dataframe\">\n",
       "  <thead>\n",
       "    <tr style=\"text-align: right;\">\n",
       "      <th></th>\n",
       "      <th>country_code</th>\n",
       "      <th>level</th>\n",
       "      <th>platform</th>\n",
       "      <th>reg_date</th>\n",
       "      <th>last_login</th>\n",
       "      <th>user_id</th>\n",
       "      <th>country_name</th>\n",
       "    </tr>\n",
       "  </thead>\n",
       "  <tbody>\n",
       "    <tr>\n",
       "      <th>332</th>\n",
       "      <td>UNKNOWN</td>\n",
       "      <td>4</td>\n",
       "      <td>Android</td>\n",
       "      <td>2020-03-30</td>\n",
       "      <td>2020-04-05</td>\n",
       "      <td>16307174</td>\n",
       "      <td>NaN</td>\n",
       "    </tr>\n",
       "    <tr>\n",
       "      <th>662</th>\n",
       "      <td>XK</td>\n",
       "      <td>24</td>\n",
       "      <td>Android</td>\n",
       "      <td>2020-02-06</td>\n",
       "      <td>2020-04-05</td>\n",
       "      <td>27571378</td>\n",
       "      <td>NaN</td>\n",
       "    </tr>\n",
       "    <tr>\n",
       "      <th>696</th>\n",
       "      <td>UNKNOWN</td>\n",
       "      <td>8</td>\n",
       "      <td>iOS</td>\n",
       "      <td>2020-03-10</td>\n",
       "      <td>2020-04-05</td>\n",
       "      <td>15959514</td>\n",
       "      <td>NaN</td>\n",
       "    </tr>\n",
       "  </tbody>\n",
       "</table>\n",
       "</div>"
      ],
      "text/plain": [
       "    country_code  level platform    reg_date  last_login   user_id  \\\n",
       "332      UNKNOWN      4  Android  2020-03-30  2020-04-05  16307174   \n",
       "662           XK     24  Android  2020-02-06  2020-04-05  27571378   \n",
       "696      UNKNOWN      8      iOS  2020-03-10  2020-04-05  15959514   \n",
       "\n",
       "    country_name  \n",
       "332          NaN  \n",
       "662          NaN  \n",
       "696          NaN  "
      ]
     },
     "execution_count": 20,
     "metadata": {},
     "output_type": "execute_result"
    }
   ],
   "source": [
    "# Checking which rows have missing country names\n",
    "df_merged[df_merged['country_name'].isna()]"
   ]
  },
  {
   "cell_type": "code",
   "execution_count": 21,
   "id": "a9caa594-f72c-449f-bfd5-12489252b9ac",
   "metadata": {
    "tags": []
   },
   "outputs": [
    {
     "name": "stdout",
     "output_type": "stream",
     "text": [
      "<class 'pandas.core.frame.DataFrame'>\n",
      "Index: 997 entries, 0 to 999\n",
      "Data columns (total 7 columns):\n",
      " #   Column        Non-Null Count  Dtype \n",
      "---  ------        --------------  ----- \n",
      " 0   country_code  997 non-null    object\n",
      " 1   level         997 non-null    int64 \n",
      " 2   platform      997 non-null    object\n",
      " 3   reg_date      997 non-null    object\n",
      " 4   last_login    997 non-null    object\n",
      " 5   user_id       997 non-null    object\n",
      " 6   country_name  997 non-null    object\n",
      "dtypes: int64(1), object(6)\n",
      "memory usage: 62.3+ KB\n"
     ]
    }
   ],
   "source": [
    "# Dropping rows with missing 'country_name' values\n",
    "df_final = df_merged.dropna()\n",
    "# Verifying the final cleaned DataFrame\n",
    "df_final.info()"
   ]
  },
  {
   "cell_type": "code",
   "execution_count": 22,
   "id": "17e0dc03-8387-460c-9784-9c7acceaf000",
   "metadata": {
    "tags": []
   },
   "outputs": [
    {
     "data": {
      "text/html": [
       "<div>\n",
       "<style scoped>\n",
       "    .dataframe tbody tr th:only-of-type {\n",
       "        vertical-align: middle;\n",
       "    }\n",
       "\n",
       "    .dataframe tbody tr th {\n",
       "        vertical-align: top;\n",
       "    }\n",
       "\n",
       "    .dataframe thead th {\n",
       "        text-align: right;\n",
       "    }\n",
       "</style>\n",
       "<table border=\"1\" class=\"dataframe\">\n",
       "  <thead>\n",
       "    <tr style=\"text-align: right;\">\n",
       "      <th></th>\n",
       "      <th>country_code</th>\n",
       "      <th>level</th>\n",
       "      <th>platform</th>\n",
       "      <th>reg_date</th>\n",
       "      <th>last_login</th>\n",
       "      <th>user_id</th>\n",
       "      <th>country_name</th>\n",
       "    </tr>\n",
       "  </thead>\n",
       "  <tbody>\n",
       "    <tr>\n",
       "      <th>0</th>\n",
       "      <td>IT</td>\n",
       "      <td>33</td>\n",
       "      <td>Android</td>\n",
       "      <td>2017-11-20</td>\n",
       "      <td>2020-04-05</td>\n",
       "      <td>1122239</td>\n",
       "      <td>Italy</td>\n",
       "    </tr>\n",
       "    <tr>\n",
       "      <th>1</th>\n",
       "      <td>IN</td>\n",
       "      <td>33</td>\n",
       "      <td>Android</td>\n",
       "      <td>2017-10-27</td>\n",
       "      <td>2020-04-05</td>\n",
       "      <td>147065</td>\n",
       "      <td>India</td>\n",
       "    </tr>\n",
       "    <tr>\n",
       "      <th>2</th>\n",
       "      <td>TR</td>\n",
       "      <td>33</td>\n",
       "      <td>iOS</td>\n",
       "      <td>2019-12-04</td>\n",
       "      <td>2020-04-05</td>\n",
       "      <td>25564086</td>\n",
       "      <td>Türkiye</td>\n",
       "    </tr>\n",
       "    <tr>\n",
       "      <th>3</th>\n",
       "      <td>HK</td>\n",
       "      <td>12</td>\n",
       "      <td>Android</td>\n",
       "      <td>2020-03-17</td>\n",
       "      <td>2020-04-05</td>\n",
       "      <td>10123050</td>\n",
       "      <td>Hong Kong</td>\n",
       "    </tr>\n",
       "    <tr>\n",
       "      <th>4</th>\n",
       "      <td>CN</td>\n",
       "      <td>21</td>\n",
       "      <td>Android</td>\n",
       "      <td>2020-02-16</td>\n",
       "      <td>2020-04-05</td>\n",
       "      <td>9893956</td>\n",
       "      <td>China</td>\n",
       "    </tr>\n",
       "  </tbody>\n",
       "</table>\n",
       "</div>"
      ],
      "text/plain": [
       "  country_code  level platform    reg_date  last_login   user_id country_name\n",
       "0           IT     33  Android  2017-11-20  2020-04-05   1122239        Italy\n",
       "1           IN     33  Android  2017-10-27  2020-04-05    147065        India\n",
       "2           TR     33      iOS  2019-12-04  2020-04-05  25564086      Türkiye\n",
       "3           HK     12  Android  2020-03-17  2020-04-05  10123050    Hong Kong\n",
       "4           CN     21  Android  2020-02-16  2020-04-05   9893956        China"
      ]
     },
     "execution_count": 22,
     "metadata": {},
     "output_type": "execute_result"
    }
   ],
   "source": [
    "df_final.head(5)"
   ]
  },
  {
   "cell_type": "markdown",
   "id": "b80de594-4fa9-4334-b995-86cc154350df",
   "metadata": {
    "tags": []
   },
   "source": [
    "## Exploring and Analysing the Data\n",
    "\n",
    "Now that my dataset is clean and prepared, I can begin to answer the questions I listed earlier. But first, let's look at some basic statistics to better understand the data."
   ]
  },
  {
   "cell_type": "code",
   "execution_count": 23,
   "id": "ef701f86-0803-4dde-993b-64154bc4e076",
   "metadata": {
    "tags": []
   },
   "outputs": [
    {
     "data": {
      "text/html": [
       "<div>\n",
       "<style scoped>\n",
       "    .dataframe tbody tr th:only-of-type {\n",
       "        vertical-align: middle;\n",
       "    }\n",
       "\n",
       "    .dataframe tbody tr th {\n",
       "        vertical-align: top;\n",
       "    }\n",
       "\n",
       "    .dataframe thead th {\n",
       "        text-align: right;\n",
       "    }\n",
       "</style>\n",
       "<table border=\"1\" class=\"dataframe\">\n",
       "  <thead>\n",
       "    <tr style=\"text-align: right;\">\n",
       "      <th></th>\n",
       "      <th>level</th>\n",
       "    </tr>\n",
       "  </thead>\n",
       "  <tbody>\n",
       "    <tr>\n",
       "      <th>count</th>\n",
       "      <td>997.000000</td>\n",
       "    </tr>\n",
       "    <tr>\n",
       "      <th>mean</th>\n",
       "      <td>13.083250</td>\n",
       "    </tr>\n",
       "    <tr>\n",
       "      <th>std</th>\n",
       "      <td>10.094737</td>\n",
       "    </tr>\n",
       "    <tr>\n",
       "      <th>min</th>\n",
       "      <td>1.000000</td>\n",
       "    </tr>\n",
       "    <tr>\n",
       "      <th>25%</th>\n",
       "      <td>4.000000</td>\n",
       "    </tr>\n",
       "    <tr>\n",
       "      <th>50%</th>\n",
       "      <td>10.000000</td>\n",
       "    </tr>\n",
       "    <tr>\n",
       "      <th>75%</th>\n",
       "      <td>20.000000</td>\n",
       "    </tr>\n",
       "    <tr>\n",
       "      <th>max</th>\n",
       "      <td>33.000000</td>\n",
       "    </tr>\n",
       "  </tbody>\n",
       "</table>\n",
       "</div>"
      ],
      "text/plain": [
       "            level\n",
       "count  997.000000\n",
       "mean    13.083250\n",
       "std     10.094737\n",
       "min      1.000000\n",
       "25%      4.000000\n",
       "50%     10.000000\n",
       "75%     20.000000\n",
       "max     33.000000"
      ]
     },
     "execution_count": 23,
     "metadata": {},
     "output_type": "execute_result"
    }
   ],
   "source": [
    "# Displaying basic statistics for numeric columns\n",
    "df_final.describe()"
   ]
  },
  {
   "cell_type": "code",
   "execution_count": 24,
   "id": "780c2bfe-362d-4374-9521-17afd0a64918",
   "metadata": {
    "tags": []
   },
   "outputs": [
    {
     "name": "stdout",
     "output_type": "stream",
     "text": [
      "Number of unique users: 997\n"
     ]
    }
   ],
   "source": [
    "# Checking the number of unique users\n",
    "unique_users = df_final['user_id'].nunique()\n",
    "print(\"Number of unique users:\", unique_users)"
   ]
  },
  {
   "cell_type": "code",
   "execution_count": 25,
   "id": "59b28f5b-4ddb-4a16-847c-37373a3a1e06",
   "metadata": {
    "tags": []
   },
   "outputs": [
    {
     "name": "stdout",
     "output_type": "stream",
     "text": [
      "Number of unique countries: 100\n"
     ]
    }
   ],
   "source": [
    "# Checking numbers of unique countries\n",
    "print(\"Number of unique countries:\", df_final['country_code'].nunique())"
   ]
  },
  {
   "cell_type": "markdown",
   "id": "81b7b5b4-b931-4154-b212-0bade20721af",
   "metadata": {},
   "source": [
    "The dataset contains 997 unique players with an average level of 13, from 100 different countries. With this initial exploration, I now have a better understanding of the scope of the data, and I can proceed with the more detailed analysis."
   ]
  },
  {
   "cell_type": "markdown",
   "id": "c88f4e07-8a14-4043-b80f-e7a44cec07f1",
   "metadata": {
    "tags": []
   },
   "source": [
    "### Top 5 Countries by Number of Players\n",
    "\n",
    "To identify the top 5 countries with the most players for each platform, I grouped the dataset by platform and country, and counted the number of players for each combination. Then I sorted the results by platform and player count, ensuring the counts are in descending order within each platform. Finally, I extracted the top 5 countries by player count for each platform.\n",
    "\n",
    "The result shows the top countries that contribute the most players on each platform."
   ]
  },
  {
   "cell_type": "code",
   "execution_count": 26,
   "id": "85e0f83a-3580-4c8f-b31c-ca01424f0670",
   "metadata": {
    "tags": []
   },
   "outputs": [],
   "source": [
    "# Groupping the dataset by platform and country and counting the number of players\n",
    "country_counts = df_final.groupby(['platform', 'country_name']).size().reset_index(name='player_count')\n",
    "\n",
    "# Sorting the results by platform and player count in descending order\n",
    "country_counts_sorted = country_counts.sort_values(by=['platform', 'player_count'], ascending=[True, False])\n",
    "\n",
    "# Extracting top 5\n",
    "top_countries_per_platform = country_counts_sorted.groupby('platform').head(5).reset_index(drop=True)"
   ]
  },
  {
   "cell_type": "code",
   "execution_count": 27,
   "id": "7fff209c-bd71-4ad2-97ba-97223ad1a475",
   "metadata": {
    "tags": []
   },
   "outputs": [
    {
     "data": {
      "text/html": [
       "<div>\n",
       "<style scoped>\n",
       "    .dataframe tbody tr th:only-of-type {\n",
       "        vertical-align: middle;\n",
       "    }\n",
       "\n",
       "    .dataframe tbody tr th {\n",
       "        vertical-align: top;\n",
       "    }\n",
       "\n",
       "    .dataframe thead th {\n",
       "        text-align: right;\n",
       "    }\n",
       "</style>\n",
       "<table border=\"1\" class=\"dataframe\">\n",
       "  <thead>\n",
       "    <tr style=\"text-align: right;\">\n",
       "      <th></th>\n",
       "      <th>platform</th>\n",
       "      <th>country_name</th>\n",
       "      <th>player_count</th>\n",
       "    </tr>\n",
       "  </thead>\n",
       "  <tbody>\n",
       "    <tr>\n",
       "      <th>0</th>\n",
       "      <td>Amazon</td>\n",
       "      <td>Côte d'Ivoire</td>\n",
       "      <td>1</td>\n",
       "    </tr>\n",
       "    <tr>\n",
       "      <th>1</th>\n",
       "      <td>Amazon</td>\n",
       "      <td>United States of America</td>\n",
       "      <td>1</td>\n",
       "    </tr>\n",
       "    <tr>\n",
       "      <th>2</th>\n",
       "      <td>Android</td>\n",
       "      <td>India</td>\n",
       "      <td>151</td>\n",
       "    </tr>\n",
       "    <tr>\n",
       "      <th>3</th>\n",
       "      <td>Android</td>\n",
       "      <td>Russian Federation</td>\n",
       "      <td>59</td>\n",
       "    </tr>\n",
       "    <tr>\n",
       "      <th>4</th>\n",
       "      <td>Android</td>\n",
       "      <td>China</td>\n",
       "      <td>58</td>\n",
       "    </tr>\n",
       "    <tr>\n",
       "      <th>5</th>\n",
       "      <td>Android</td>\n",
       "      <td>Indonesia</td>\n",
       "      <td>36</td>\n",
       "    </tr>\n",
       "    <tr>\n",
       "      <th>6</th>\n",
       "      <td>Android</td>\n",
       "      <td>Philippines</td>\n",
       "      <td>30</td>\n",
       "    </tr>\n",
       "    <tr>\n",
       "      <th>7</th>\n",
       "      <td>Samsung</td>\n",
       "      <td>Egypt</td>\n",
       "      <td>3</td>\n",
       "    </tr>\n",
       "    <tr>\n",
       "      <th>8</th>\n",
       "      <td>Samsung</td>\n",
       "      <td>Brazil</td>\n",
       "      <td>1</td>\n",
       "    </tr>\n",
       "    <tr>\n",
       "      <th>9</th>\n",
       "      <td>Samsung</td>\n",
       "      <td>Costa Rica</td>\n",
       "      <td>1</td>\n",
       "    </tr>\n",
       "    <tr>\n",
       "      <th>10</th>\n",
       "      <td>Samsung</td>\n",
       "      <td>India</td>\n",
       "      <td>1</td>\n",
       "    </tr>\n",
       "    <tr>\n",
       "      <th>11</th>\n",
       "      <td>Samsung</td>\n",
       "      <td>Israel</td>\n",
       "      <td>1</td>\n",
       "    </tr>\n",
       "    <tr>\n",
       "      <th>12</th>\n",
       "      <td>iOS</td>\n",
       "      <td>China</td>\n",
       "      <td>122</td>\n",
       "    </tr>\n",
       "    <tr>\n",
       "      <th>13</th>\n",
       "      <td>iOS</td>\n",
       "      <td>Viet Nam</td>\n",
       "      <td>18</td>\n",
       "    </tr>\n",
       "    <tr>\n",
       "      <th>14</th>\n",
       "      <td>iOS</td>\n",
       "      <td>United States of America</td>\n",
       "      <td>14</td>\n",
       "    </tr>\n",
       "    <tr>\n",
       "      <th>15</th>\n",
       "      <td>iOS</td>\n",
       "      <td>Russian Federation</td>\n",
       "      <td>12</td>\n",
       "    </tr>\n",
       "    <tr>\n",
       "      <th>16</th>\n",
       "      <td>iOS</td>\n",
       "      <td>India</td>\n",
       "      <td>11</td>\n",
       "    </tr>\n",
       "  </tbody>\n",
       "</table>\n",
       "</div>"
      ],
      "text/plain": [
       "   platform              country_name  player_count\n",
       "0    Amazon             Côte d'Ivoire             1\n",
       "1    Amazon  United States of America             1\n",
       "2   Android                     India           151\n",
       "3   Android        Russian Federation            59\n",
       "4   Android                     China            58\n",
       "5   Android                 Indonesia            36\n",
       "6   Android               Philippines            30\n",
       "7   Samsung                     Egypt             3\n",
       "8   Samsung                    Brazil             1\n",
       "9   Samsung                Costa Rica             1\n",
       "10  Samsung                     India             1\n",
       "11  Samsung                    Israel             1\n",
       "12      iOS                     China           122\n",
       "13      iOS                  Viet Nam            18\n",
       "14      iOS  United States of America            14\n",
       "15      iOS        Russian Federation            12\n",
       "16      iOS                     India            11"
      ]
     },
     "execution_count": 27,
     "metadata": {},
     "output_type": "execute_result"
    }
   ],
   "source": [
    "top_countries_per_platform"
   ]
  },
  {
   "cell_type": "markdown",
   "id": "89d45e4c-3ba9-4616-bf22-4cad80ec27f6",
   "metadata": {},
   "source": [
    "### Maximum Lifetime of Players in the Game\n",
    "\n",
    "To calculate the maximum lifetime of players in the game, I will subtract the registration date (reg_date) from the last login date (last_login). This will give me the lifetime (in days) of each player, representing how long they've been active in the game. I will then find the player with the longest lifetime."
   ]
  },
  {
   "cell_type": "code",
   "execution_count": 28,
   "id": "79d32e64-7746-4377-a95f-bea49e038c3a",
   "metadata": {
    "tags": []
   },
   "outputs": [
    {
     "name": "stderr",
     "output_type": "stream",
     "text": [
      "/var/folders/xp/3_ws7nb57575kz8ltkrf3lk00000gn/T/ipykernel_8400/3405633170.py:2: SettingWithCopyWarning: \n",
      "A value is trying to be set on a copy of a slice from a DataFrame.\n",
      "Try using .loc[row_indexer,col_indexer] = value instead\n",
      "\n",
      "See the caveats in the documentation: https://pandas.pydata.org/pandas-docs/stable/user_guide/indexing.html#returning-a-view-versus-a-copy\n",
      "  df_final['last_login'] = pd.to_datetime(df_final['last_login'])\n",
      "/var/folders/xp/3_ws7nb57575kz8ltkrf3lk00000gn/T/ipykernel_8400/3405633170.py:3: SettingWithCopyWarning: \n",
      "A value is trying to be set on a copy of a slice from a DataFrame.\n",
      "Try using .loc[row_indexer,col_indexer] = value instead\n",
      "\n",
      "See the caveats in the documentation: https://pandas.pydata.org/pandas-docs/stable/user_guide/indexing.html#returning-a-view-versus-a-copy\n",
      "  df_final['reg_date'] = pd.to_datetime(df_final['reg_date'])\n",
      "/var/folders/xp/3_ws7nb57575kz8ltkrf3lk00000gn/T/ipykernel_8400/3405633170.py:6: SettingWithCopyWarning: \n",
      "A value is trying to be set on a copy of a slice from a DataFrame.\n",
      "Try using .loc[row_indexer,col_indexer] = value instead\n",
      "\n",
      "See the caveats in the documentation: https://pandas.pydata.org/pandas-docs/stable/user_guide/indexing.html#returning-a-view-versus-a-copy\n",
      "  df_final['lifetime'] = (df_final['last_login']-df_final['reg_date']).dt.days\n"
     ]
    }
   ],
   "source": [
    "# Converting 'last_login' and 'reg_date' columns to datetime format\n",
    "df_final['last_login'] = pd.to_datetime(df_final['last_login'])\n",
    "df_final['reg_date'] = pd.to_datetime(df_final['reg_date'])\n",
    "\n",
    "# Calculating player lifetime as the difference between 'last_login' and 'reg_date' in days\n",
    "df_final['lifetime'] = (df_final['last_login']-df_final['reg_date']).dt.days"
   ]
  },
  {
   "cell_type": "code",
   "execution_count": 29,
   "id": "2ac1c200-11b6-41b0-aa12-579fb65511b5",
   "metadata": {},
   "outputs": [
    {
     "data": {
      "text/html": [
       "<div>\n",
       "<style scoped>\n",
       "    .dataframe tbody tr th:only-of-type {\n",
       "        vertical-align: middle;\n",
       "    }\n",
       "\n",
       "    .dataframe tbody tr th {\n",
       "        vertical-align: top;\n",
       "    }\n",
       "\n",
       "    .dataframe thead th {\n",
       "        text-align: right;\n",
       "    }\n",
       "</style>\n",
       "<table border=\"1\" class=\"dataframe\">\n",
       "  <thead>\n",
       "    <tr style=\"text-align: right;\">\n",
       "      <th></th>\n",
       "      <th>lifetime</th>\n",
       "    </tr>\n",
       "  </thead>\n",
       "  <tbody>\n",
       "    <tr>\n",
       "      <th>0</th>\n",
       "      <td>867</td>\n",
       "    </tr>\n",
       "    <tr>\n",
       "      <th>1</th>\n",
       "      <td>891</td>\n",
       "    </tr>\n",
       "    <tr>\n",
       "      <th>2</th>\n",
       "      <td>123</td>\n",
       "    </tr>\n",
       "    <tr>\n",
       "      <th>3</th>\n",
       "      <td>19</td>\n",
       "    </tr>\n",
       "    <tr>\n",
       "      <th>4</th>\n",
       "      <td>49</td>\n",
       "    </tr>\n",
       "  </tbody>\n",
       "</table>\n",
       "</div>"
      ],
      "text/plain": [
       "   lifetime\n",
       "0       867\n",
       "1       891\n",
       "2       123\n",
       "3        19\n",
       "4        49"
      ]
     },
     "execution_count": 29,
     "metadata": {},
     "output_type": "execute_result"
    }
   ],
   "source": [
    "# Previewing the first 5 rows of the 'lifetime' column\n",
    "df_final.head(5)[['lifetime']]"
   ]
  },
  {
   "cell_type": "code",
   "execution_count": 30,
   "id": "b77afc70-143b-466c-a6dc-eafb93365ee6",
   "metadata": {
    "tags": []
   },
   "outputs": [],
   "source": [
    "# Converting the 'lifetime' to integers for clarity\n",
    "df_final.loc[:,'lifetime'] = df_final['lifetime'].astype('int')\n",
    "\n",
    "# Calculating the maximum lifetime\n",
    "max_lifetime = df_final['lifetime'].max()"
   ]
  },
  {
   "cell_type": "code",
   "execution_count": 31,
   "id": "e740f3fe-6919-4b48-a757-2fc868c62ec1",
   "metadata": {
    "tags": []
   },
   "outputs": [
    {
     "name": "stdout",
     "output_type": "stream",
     "text": [
      "The answer is: 891 days\n"
     ]
    }
   ],
   "source": [
    "print(\"The answer is:\", max_lifetime, \"days\")"
   ]
  },
  {
   "cell_type": "markdown",
   "id": "8841279d-744b-4254-b6f0-0ea4abaa55ef",
   "metadata": {},
   "source": [
    "### How Many Players Are Above Level 20?\n",
    "\n",
    "To determine how many players are above level 20, I filter the dataset for those whose level is above 20 and then count the unique players."
   ]
  },
  {
   "cell_type": "code",
   "execution_count": 32,
   "id": "8c7f3454-1038-4e1d-8639-70490ca52e34",
   "metadata": {
    "tags": []
   },
   "outputs": [
    {
     "name": "stdout",
     "output_type": "stream",
     "text": [
      "Number of players above level 20: 249\n"
     ]
    }
   ],
   "source": [
    "# Filtering the dataset to count players with a level greater than 20\n",
    "players_20 = df_final[df_final['level'] > 20]['user_id'].nunique()\n",
    "print(\"Number of players above level 20:\",players_20)"
   ]
  },
  {
   "cell_type": "markdown",
   "id": "7cd0b798-0ba6-4fd4-ba16-23b667eb9632",
   "metadata": {},
   "source": [
    "Out of 997 unique players, only 249 (25%) have successfully reached a level higher than 20. Although this shows an interesting pattern in player progression, further analysis would be required to fully understand the factors influencing player advancement — something that is beyond the scope of this project."
   ]
  },
  {
   "cell_type": "markdown",
   "id": "eedcf8a7-0baf-4c45-9e39-321f3efb9e4e",
   "metadata": {},
   "source": [
    "### Average Player Level for Each Country\n",
    "\n",
    "To calculate the average player level for each country, I grouped the dataset by country_name and calculated the average level for each country. I then sorted the countries in descending order by their average player level."
   ]
  },
  {
   "cell_type": "code",
   "execution_count": 33,
   "id": "83c27afb-2f5c-4489-9809-7fc1d2e49d95",
   "metadata": {
    "tags": []
   },
   "outputs": [
    {
     "data": {
      "text/html": [
       "<div>\n",
       "<style scoped>\n",
       "    .dataframe tbody tr th:only-of-type {\n",
       "        vertical-align: middle;\n",
       "    }\n",
       "\n",
       "    .dataframe tbody tr th {\n",
       "        vertical-align: top;\n",
       "    }\n",
       "\n",
       "    .dataframe thead th {\n",
       "        text-align: right;\n",
       "    }\n",
       "</style>\n",
       "<table border=\"1\" class=\"dataframe\">\n",
       "  <thead>\n",
       "    <tr style=\"text-align: right;\">\n",
       "      <th></th>\n",
       "      <th>country_name</th>\n",
       "      <th>avg_level</th>\n",
       "    </tr>\n",
       "  </thead>\n",
       "  <tbody>\n",
       "    <tr>\n",
       "      <th>0</th>\n",
       "      <td>Zambia</td>\n",
       "      <td>33.0</td>\n",
       "    </tr>\n",
       "    <tr>\n",
       "      <th>1</th>\n",
       "      <td>Qatar</td>\n",
       "      <td>33.0</td>\n",
       "    </tr>\n",
       "    <tr>\n",
       "      <th>2</th>\n",
       "      <td>Austria</td>\n",
       "      <td>33.0</td>\n",
       "    </tr>\n",
       "    <tr>\n",
       "      <th>3</th>\n",
       "      <td>Yemen</td>\n",
       "      <td>30.0</td>\n",
       "    </tr>\n",
       "    <tr>\n",
       "      <th>4</th>\n",
       "      <td>Mozambique</td>\n",
       "      <td>29.5</td>\n",
       "    </tr>\n",
       "    <tr>\n",
       "      <th>...</th>\n",
       "      <td>...</td>\n",
       "      <td>...</td>\n",
       "    </tr>\n",
       "    <tr>\n",
       "      <th>95</th>\n",
       "      <td>Palestine, State of</td>\n",
       "      <td>3.0</td>\n",
       "    </tr>\n",
       "    <tr>\n",
       "      <th>96</th>\n",
       "      <td>Netherlands, Kingdom of the</td>\n",
       "      <td>3.0</td>\n",
       "    </tr>\n",
       "    <tr>\n",
       "      <th>97</th>\n",
       "      <td>Jordan</td>\n",
       "      <td>3.0</td>\n",
       "    </tr>\n",
       "    <tr>\n",
       "      <th>98</th>\n",
       "      <td>Bulgaria</td>\n",
       "      <td>3.0</td>\n",
       "    </tr>\n",
       "    <tr>\n",
       "      <th>99</th>\n",
       "      <td>Senegal</td>\n",
       "      <td>1.0</td>\n",
       "    </tr>\n",
       "  </tbody>\n",
       "</table>\n",
       "<p>100 rows × 2 columns</p>\n",
       "</div>"
      ],
      "text/plain": [
       "                   country_name  avg_level\n",
       "0                        Zambia       33.0\n",
       "1                         Qatar       33.0\n",
       "2                       Austria       33.0\n",
       "3                         Yemen       30.0\n",
       "4                    Mozambique       29.5\n",
       "..                          ...        ...\n",
       "95          Palestine, State of        3.0\n",
       "96  Netherlands, Kingdom of the        3.0\n",
       "97                       Jordan        3.0\n",
       "98                     Bulgaria        3.0\n",
       "99                      Senegal        1.0\n",
       "\n",
       "[100 rows x 2 columns]"
      ]
     },
     "execution_count": 33,
     "metadata": {},
     "output_type": "execute_result"
    }
   ],
   "source": [
    "# Grouping by 'country_name' and calculating the average player level\n",
    "country_avglevel = df_final.groupby(['country_name'])['level'].mean().reset_index(name='avg_level')\n",
    "\n",
    "# Sorting in descending order\n",
    "country_avglevel_sorted = country_avglevel.sort_values(by=['avg_level'], ascending=[False])\n",
    "country_avglevel_sorted.reset_index(drop=True)"
   ]
  },
  {
   "cell_type": "code",
   "execution_count": 34,
   "id": "baf3f7a8-a7d1-44ab-8ee9-276fbd2b441a",
   "metadata": {
    "tags": []
   },
   "outputs": [
    {
     "data": {
      "text/html": [
       "<div>\n",
       "<style scoped>\n",
       "    .dataframe tbody tr th:only-of-type {\n",
       "        vertical-align: middle;\n",
       "    }\n",
       "\n",
       "    .dataframe tbody tr th {\n",
       "        vertical-align: top;\n",
       "    }\n",
       "\n",
       "    .dataframe thead th {\n",
       "        text-align: right;\n",
       "    }\n",
       "</style>\n",
       "<table border=\"1\" class=\"dataframe\">\n",
       "  <thead>\n",
       "    <tr style=\"text-align: right;\">\n",
       "      <th></th>\n",
       "      <th>country_name</th>\n",
       "      <th>avg_level</th>\n",
       "    </tr>\n",
       "  </thead>\n",
       "  <tbody>\n",
       "    <tr>\n",
       "      <th>99</th>\n",
       "      <td>Zambia</td>\n",
       "      <td>33.0</td>\n",
       "    </tr>\n",
       "    <tr>\n",
       "      <th>72</th>\n",
       "      <td>Qatar</td>\n",
       "      <td>33.0</td>\n",
       "    </tr>\n",
       "    <tr>\n",
       "      <th>6</th>\n",
       "      <td>Austria</td>\n",
       "      <td>33.0</td>\n",
       "    </tr>\n",
       "    <tr>\n",
       "      <th>98</th>\n",
       "      <td>Yemen</td>\n",
       "      <td>30.0</td>\n",
       "    </tr>\n",
       "    <tr>\n",
       "      <th>57</th>\n",
       "      <td>Mozambique</td>\n",
       "      <td>29.5</td>\n",
       "    </tr>\n",
       "    <tr>\n",
       "      <th>53</th>\n",
       "      <td>Mauritania</td>\n",
       "      <td>28.0</td>\n",
       "    </tr>\n",
       "    <tr>\n",
       "      <th>30</th>\n",
       "      <td>Greece</td>\n",
       "      <td>28.0</td>\n",
       "    </tr>\n",
       "    <tr>\n",
       "      <th>25</th>\n",
       "      <td>Ethiopia</td>\n",
       "      <td>28.0</td>\n",
       "    </tr>\n",
       "    <tr>\n",
       "      <th>23</th>\n",
       "      <td>Ecuador</td>\n",
       "      <td>24.0</td>\n",
       "    </tr>\n",
       "    <tr>\n",
       "      <th>81</th>\n",
       "      <td>Spain</td>\n",
       "      <td>23.0</td>\n",
       "    </tr>\n",
       "  </tbody>\n",
       "</table>\n",
       "</div>"
      ],
      "text/plain": [
       "   country_name  avg_level\n",
       "99       Zambia       33.0\n",
       "72        Qatar       33.0\n",
       "6       Austria       33.0\n",
       "98        Yemen       30.0\n",
       "57   Mozambique       29.5\n",
       "53   Mauritania       28.0\n",
       "30       Greece       28.0\n",
       "25     Ethiopia       28.0\n",
       "23      Ecuador       24.0\n",
       "81        Spain       23.0"
      ]
     },
     "execution_count": 34,
     "metadata": {},
     "output_type": "execute_result"
    }
   ],
   "source": [
    "# Displaying the top 10 countries by average player level\n",
    "top_countries_players_level = country_avglevel_sorted.head(10)\n",
    "top_countries_players_level"
   ]
  },
  {
   "cell_type": "markdown",
   "id": "6accd16e-0385-4905-9ce0-17dc67b33544",
   "metadata": {},
   "source": [
    "This gives us the top 10 countries with the highest average player level. The result could be interesting for understanding which countries have more advanced players. However, further analysis may be needed to determine the underlying factors behind these trends, but for now we will focus on displaying the top 10 countries."
   ]
  },
  {
   "cell_type": "markdown",
   "id": "a88a6dc7-dd08-4c97-b74c-f7420585bd39",
   "metadata": {},
   "source": [
    "## Conclusion\n",
    "\n",
    "In this project, I explored and analyzed mobile game data using Pandas. By cleaning and organizing the dataset, I was able to answer key questions about player distribution and behavior. The analysis offered valuable insights and provided a solid foundation for understanding the game's player base and engagement trends.\n",
    "\n",
    "Throughout the analysis, I applied several skills I learned in this course, including working with data types, manipulating strings, using loops, and working with lists. This project not only expanded my knowledge, but also highlighted the practical application of these concepts in real-world data analysis."
   ]
  }
 ],
 "metadata": {
  "kernelspec": {
   "display_name": "Python 3 (ipykernel)",
   "language": "python",
   "name": "python3"
  },
  "language_info": {
   "codemirror_mode": {
    "name": "ipython",
    "version": 3
   },
   "file_extension": ".py",
   "mimetype": "text/x-python",
   "name": "python",
   "nbconvert_exporter": "python",
   "pygments_lexer": "ipython3",
   "version": "3.11.5"
  }
 },
 "nbformat": 4,
 "nbformat_minor": 5
}
